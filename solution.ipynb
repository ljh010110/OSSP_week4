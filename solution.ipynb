{
  "nbformat": 4,
  "nbformat_minor": 0,
  "metadata": {
    "colab": {
      "provenance": []
    },
    "kernelspec": {
      "name": "python3",
      "display_name": "Python 3"
    },
    "language_info": {
      "name": "python"
    }
  },
  "cells": [
    {
      "cell_type": "code",
      "execution_count": null,
      "metadata": {
        "id": "Gl_Ysl4cAQng"
      },
      "outputs": [],
      "source": [
        "def rotateString(s, goal):\n",
        "    for i in range(len(s)):\n",
        "        a = s[0]\n",
        "        s = s[1:] + a\n",
        "        if s == goal:\n",
        "            print(\"True\")\n",
        "            return\n",
        "    print(\"False\")"
      ]
    }
  ]
}